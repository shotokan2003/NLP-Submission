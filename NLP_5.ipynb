{
  "nbformat": 4,
  "nbformat_minor": 0,
  "metadata": {
    "colab": {
      "provenance": []
    },
    "kernelspec": {
      "name": "python3",
      "display_name": "Python 3"
    },
    "language_info": {
      "name": "python"
    }
  },
  "cells": [
    {
      "cell_type": "code",
      "execution_count": null,
      "metadata": {
        "id": "0ORaG-3VF5-r"
      },
      "outputs": [],
      "source": [
        "#morphology is the study of the way words are built up from smaller meaning bearing units. Study and understand the concepts of morphology by the use of add delete table"
      ]
    },
    {
      "cell_type": "code",
      "source": [
        "# Define the add-delete table\n",
        "morphology_table = [\n",
        "    {\"operation\": \"add\", \"position\": \"prefix\", \"affix\": \"un\", \"description\": \"Adding prefix 'un' to form negation.\"},\n",
        "    {\"operation\": \"add\", \"position\": \"suffix\", \"affix\": \"ing\", \"description\": \"Adding suffix 'ing' for present participle.\"},\n",
        "    {\"operation\": \"delete\", \"position\": \"suffix\", \"affix\": \"ed\", \"description\": \"Removing suffix 'ed' to get the root form.\"},\n",
        "    {\"operation\": \"add\", \"position\": \"suffix\", \"affix\": \"ly\", \"description\": \"Adding suffix 'ly' to form an adverb.\"},\n",
        "    {\"operation\": \"delete\", \"position\": \"suffix\", \"affix\": \"s\", \"description\": \"Removing suffix 's' for singular form.\"}\n",
        "]\n",
        "\n",
        "# Function to apply morphological transformations\n",
        "def apply_morphology(word, table):\n",
        "    results = []\n",
        "    for rule in table:\n",
        "        if rule[\"operation\"] == \"add\":\n",
        "            if rule[\"position\"] == \"prefix\":\n",
        "                new_word = rule[\"affix\"] + word\n",
        "            elif rule[\"position\"] == \"suffix\":\n",
        "                new_word = word + rule[\"affix\"]\n",
        "            results.append((rule[\"description\"], new_word))\n",
        "        elif rule[\"operation\"] == \"delete\":\n",
        "            if rule[\"position\"] == \"suffix\" and word.endswith(rule[\"affix\"]):\n",
        "                new_word = word[: -len(rule[\"affix\"])]\n",
        "                results.append((rule[\"description\"], new_word))\n",
        "    return results\n",
        "\n",
        "# Example usage\n",
        "word = \"play\"\n",
        "print(f\"Original word: {word}\\n\")\n",
        "transformations = apply_morphology(word, morphology_table)\n",
        "for desc, transformed_word in transformations:\n",
        "    print(f\"{desc} -> {transformed_word}\")"
      ],
      "metadata": {
        "colab": {
          "base_uri": "https://localhost:8080/"
        },
        "id": "6KBV289hGle1",
        "outputId": "3f7d0792-6d1f-4c74-a02e-765532a6640e"
      },
      "execution_count": null,
      "outputs": [
        {
          "output_type": "stream",
          "name": "stdout",
          "text": [
            "Original word: play\n",
            "\n",
            "Adding prefix 'un' to form negation. -> unplay\n",
            "Adding suffix 'ing' for present participle. -> playing\n",
            "Adding suffix 'ly' to form an adverb. -> playly\n"
          ]
        }
      ]
    }
  ]
}